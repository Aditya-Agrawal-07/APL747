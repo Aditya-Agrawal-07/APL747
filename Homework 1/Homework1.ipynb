{
 "cells": [
  {
   "cell_type": "code",
   "execution_count": 1,
   "metadata": {},
   "outputs": [],
   "source": [
    "import numpy as np\n",
    "from scipy.integrate import trapz\n",
    "from scipy.stats import norm\n",
    "from scipy.optimize import minimize"
   ]
  },
  {
   "cell_type": "markdown",
   "metadata": {},
   "source": [
    "# Question 5"
   ]
  },
  {
   "cell_type": "code",
   "execution_count": 2,
   "metadata": {},
   "outputs": [
    {
     "name": "stdout",
     "output_type": "stream",
     "text": [
      "Error in the identity =  1.7763568394002505e-15\n",
      "Difference between KL(p||q) and KL(q||p) =  30.192455638880116\n"
     ]
    }
   ],
   "source": [
    "Ep = 1.1    # mean of p(x)\n",
    "Eq = 10     # mean of q(x)\n",
    "Sp = 1      # std. dev. of p(x)\n",
    "Sq = 2      # std. dev. of q(x)\n",
    "\n",
    "\n",
    "# Taking a sufficiently large interval\n",
    "# a = min(Ep - 3*Sp, Eq - 3*Sq)\n",
    "# b = max(Ep + 3*Sp, Eq + 3*Sq)\n",
    "a = -30 \n",
    "b = 30\n",
    "x = np.linspace(a, b, 1000)     # 1000 points in the interval [a,b]\n",
    "\n",
    "px = (1/(np.sqrt(2*np.pi)*Sp))*np.exp(-(x - Ep)**2/(2*Sp**2))   # pdf of p(x)\n",
    "qx = (1/(np.sqrt(2*np.pi)*Sq))*np.exp(-(x - Eq)**2/(2*Sq**2))   # pdf of q(x)\n",
    "\n",
    "fx = -px*np.log(qx/px)      # KL divergence single term for p(x)*log(q(x)/p(x))\n",
    "KLp_q = trapz(fx, x)        # KL(p||q)\n",
    "\n",
    "rhs = 0.5*(np.log(Sq**2/Sp**2) + (Sp**2 + Ep**2 - 2*Ep*Eq + Eq**2)/Sq**2 - 1)   # RHS of identity to prove \n",
    "\n",
    "print(\"Error in the identity = \", abs(KLp_q - rhs))\n",
    "\n",
    "fx_ = -qx*np.log(px/qx)     # KL divergence single term for q(x)*log(p(x)/q(x))\n",
    "KLq_p = trapz(fx_, x)       # KL(q||p)\n",
    "\n",
    "print('Difference between KL(p||q) and KL(q||p) = ', abs(KLp_q-KLq_p))"
   ]
  },
  {
   "cell_type": "markdown",
   "metadata": {},
   "source": [
    "The error in the identity approaches 0 as the range of the interval increases. This verifies the identity.\n",
    "\n",
    "Clearly, KL(p||q) != KL(q||p) as the error between the two is quite significant. This can also be verified from the identity proved above."
   ]
  },
  {
   "cell_type": "markdown",
   "metadata": {},
   "source": [
    "# Question 8"
   ]
  },
  {
   "cell_type": "code",
   "execution_count": 4,
   "metadata": {},
   "outputs": [
    {
     "name": "stdout",
     "output_type": "stream",
     "text": [
      "Estimated Mean :  1.9547431847878474\n",
      "Estimated Standard Deviation :  0.9870331693704599\n",
      "Error in mean estimate =  0.045256815212152635\n",
      "Error in std. dev. estimate =  0.012966830629540071\n"
     ]
    }
   ],
   "source": [
    "np.random.seed(0)   # for reproducibility\n",
    "N = 1000            # No. of samples of X\n",
    "true_mean = 2       # Actual mean value of distribution\n",
    "true_std_dev = 1    # Actual std. dev. of distribution\n",
    "data = norm.rvs(loc=true_mean, scale=true_std_dev, size=N)  # Sampling of N data points\n",
    "\n",
    "# Defining negative log liklihood function\n",
    "def neg_log_likelihood(params, data):\n",
    "    Ep, Sp = params\n",
    "    sum = 0\n",
    "    for i in range(N):\n",
    "        x = data[i]\n",
    "        px = (1/(np.sqrt(2*np.pi)*Sp)) * np.exp(-((x - Ep)/Sp)**2/2)\n",
    "        sum += np.log(abs(px))\n",
    "    return -sum\n",
    "\n",
    "initial_guess = [0, 1]      # Initial guess value\n",
    "\n",
    "result = minimize(neg_log_likelihood, initial_guess, args=(data,))  # optimized parameters\n",
    "mean_mle, std_dev_mle = result.x\n",
    "print(\"Estimated Mean : \", mean_mle)\n",
    "print(\"Estimated Standard Deviation : \", std_dev_mle)\n",
    "\n",
    "print(\"Error in mean estimate = \", abs(mean_mle-true_mean))\n",
    "print(\"Error in std. dev. estimate = \", abs(std_dev_mle-true_std_dev))"
   ]
  }
 ],
 "metadata": {
  "kernelspec": {
   "display_name": "Python 3",
   "language": "python",
   "name": "python3"
  },
  "language_info": {
   "codemirror_mode": {
    "name": "ipython",
    "version": 3
   },
   "file_extension": ".py",
   "mimetype": "text/x-python",
   "name": "python",
   "nbconvert_exporter": "python",
   "pygments_lexer": "ipython3",
   "version": "3.11.5"
  }
 },
 "nbformat": 4,
 "nbformat_minor": 2
}
